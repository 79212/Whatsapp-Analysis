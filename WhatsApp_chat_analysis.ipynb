{
  "nbformat": 4,
  "nbformat_minor": 0,
  "metadata": {
    "colab": {
      "name": "WhatsApp chat analysis",
      "provenance": [],
      "collapsed_sections": [],
      "toc_visible": true
    },
    "kernelspec": {
      "name": "python3",
      "display_name": "Python 3"
    }
  },
  "cells": [
    {
      "cell_type": "markdown",
      "metadata": {
        "id": "errnGba1M99S",
        "colab_type": "text"
      },
      "source": [
        "# Whatsapp Group Chat Data Analysis using python."
      ]
    },
    {
      "cell_type": "markdown",
      "metadata": {
        "id": "H5m6vPUFNJe6",
        "colab_type": "text"
      },
      "source": [
        "Hey there! This a project which would keep evolving with time.\n",
        "\n",
        "A typical data science project would involve **5** steps.\n",
        "The first step is **Data Collection**. In this case Data collection involves\n",
        "1.   Opening Whatsapp group chat.\n",
        "2.   Go to Settings.\n",
        "3.   Click on Export Chat.\n",
        "4.   Click on without media.\n"
      ]
    },
    {
      "cell_type": "code",
      "metadata": {
        "id": "PHEcM5l_UgVd",
        "colab_type": "code",
        "colab": {}
      },
      "source": [
        "import re\n",
        "import pandas as pd"
      ],
      "execution_count": 0,
      "outputs": []
    },
    {
      "cell_type": "markdown",
      "metadata": {
        "id": "ZH-qW4JzPdxD",
        "colab_type": "text"
      },
      "source": [
        "# **Data Preparation:**\n",
        "\n",
        "\n",
        "This plain text file will have to be parsed and tokenized in a meaningful manner in order to be served (stored) in a Pandas dataframe.\n",
        "\n",
        "Let us consider just a single line from the text (which we will call “raw text”) and see how we can extract relevant columns from it:\n",
        "\n",
        "18/06/17, 9:47 PM - Teja: Why do you have 2 numbers?\n",
        "\n",
        "In our sample line of text, our main objective is to automatically break down the raw message into 4 tokens.\n",
        "\n",
        "{Date}, {Time} - {Author}: {Message}\n",
        "\n",
        "{18/06/17}, {9:47 PM} - {Teja}: {Why do you have 2 numbers?}\n",
        "\n",
        "\n",
        "\n",
        "\n"
      ]
    },
    {
      "cell_type": "markdown",
      "metadata": {
        "id": "jn-fdRPyVdFz",
        "colab_type": "text"
      },
      "source": [
        "**1) Detecting date and time tokens**"
      ]
    },
    {
      "cell_type": "code",
      "metadata": {
        "id": "ll_2r7D56PGo",
        "colab_type": "code",
        "colab": {}
      },
      "source": [
        "def startsWithDateAndTime(s):\n",
        "    pattern = '^([0-9]+)(\\/)([0-9]+)(\\/)([0-9][0-9]), ([0-9]+):([0-9][0-9]) (AM|PM) -'\n",
        "    result = re.match(pattern, s)\n",
        "    if result:\n",
        "        return True\n",
        "    return False"
      ],
      "execution_count": 0,
      "outputs": []
    },
    {
      "cell_type": "code",
      "metadata": {
        "id": "-PBdcTd2H4fb",
        "colab_type": "code",
        "outputId": "c9aa95b4-0630-4d27-dda8-6bd402f88bbe",
        "colab": {
          "base_uri": "https://localhost:8080/",
          "height": 34
        }
      },
      "source": [
        "startsWithDateAndTime('1/26/18, 6:34 PM - Teja: add rohit int the grp')"
      ],
      "execution_count": 0,
      "outputs": [
        {
          "output_type": "execute_result",
          "data": {
            "text/plain": [
              "True"
            ]
          },
          "metadata": {
            "tags": []
          },
          "execution_count": 8
        }
      ]
    },
    {
      "cell_type": "markdown",
      "metadata": {
        "id": "AroPBNsFVsNi",
        "colab_type": "text"
      },
      "source": [
        "**2) Detecting Author Token**"
      ]
    },
    {
      "cell_type": "code",
      "metadata": {
        "id": "-OTRokdcHL3F",
        "colab_type": "code",
        "colab": {}
      },
      "source": [
        "def startsWithAuthor(s):\n",
        "    patterns = [\n",
        "        '([\\w]+):',                        # First Name\n",
        "        '([\\w]+[\\s]+[\\w]+):',              # First Name + Last Name\n",
        "        '([\\w]+[\\s]+[\\w]+[\\s]+[\\w]+):',    # First Name + Middle Name + Last Name\n",
        "        '([+]\\d{2} \\d{5} \\d{5}):',         # Mobile Number (India)\n",
        "        '([+]\\d{2} \\d{3} \\d{3} \\d{4}):',   # Mobile Number (US)\n",
        "        '([+]\\d{2} \\d{4} \\d{7})',\n",
        "        '([\\w]+)[\\u263a-\\U0001f645]+:',\n",
        "        '([\\w]+) [\\u263a-\\U0001f645]+:',\n",
        "        '([\\w]+[\\s]+[\\w]+)[\\u263a-\\U0001f645]+:',\n",
        "        '([\\w]+[\\s]+[\\w]+[\\s]+[\\w]+)[\\u263a-\\U0001f645]+:',                \n",
        "    ]\n",
        "    pattern = '^' + '|'.join(patterns)\n",
        "    result = re.match(pattern, s)\n",
        "    if result:\n",
        "        return True\n",
        "    return False"
      ],
      "execution_count": 0,
      "outputs": []
    },
    {
      "cell_type": "code",
      "metadata": {
        "id": "MrPeVprpMu1m",
        "colab_type": "code",
        "outputId": "9caf11cf-e0b2-41c2-ea03-02641edcb70c",
        "colab": {
          "base_uri": "https://localhost:8080/",
          "height": 34
        }
      },
      "source": [
        "startsWithAuthor('Teja: Chhapaak ela untadhi')"
      ],
      "execution_count": 0,
      "outputs": [
        {
          "output_type": "execute_result",
          "data": {
            "text/plain": [
              "True"
            ]
          },
          "metadata": {
            "tags": []
          },
          "execution_count": 11
        }
      ]
    },
    {
      "cell_type": "markdown",
      "metadata": {
        "id": "w_nhna0XWI9X",
        "colab_type": "text"
      },
      "source": [
        "Before we ran the **startsWithAuthor** method, 2 tokens had been detected in our processed sample message.\n",
        "\n",
        "{Date}, {Time} -Message\n",
        "\n",
        "{18/06/17}, {22:47} - {Loki: Why do you have 2 numbers, Banner?}\n",
        "\n",
        "After we run the **startsWithAuthor** method, 4 tokens are detected in our processed sample message.\n",
        "\n",
        "{Date}, {Time} - {Author}: {Message}\n",
        "\n",
        "{18/06/17}, {22:47} - {Loki}: {Why do you have 2 numbers, Banner?}\n",
        "\n",
        "Once we have detected the Date, Time and Author tokens, what we are left with is the remaining portion of the string which is the Message token."
      ]
    },
    {
      "cell_type": "markdown",
      "metadata": {
        "id": "hDviS5coWefl",
        "colab_type": "text"
      },
      "source": [
        "**3) Extracting and Combining Tokens**\n",
        "\n",
        "Now that we have been able to identify the Date, Time, Author and Message tokens in a single message, it is time to split each line based on the separator tokens like commas (,), hyphens(-), colons(:) and spaces( ), so that the required tokens can be extracted and saved in a dataframe."
      ]
    },
    {
      "cell_type": "code",
      "metadata": {
        "id": "tkty9MXqHMUv",
        "colab_type": "code",
        "colab": {}
      },
      "source": [
        "def getDataPoint(line):   \n",
        "    splitLine = line.split(' - ') \n",
        "    dateTime = splitLine[0]\n",
        "    date, time = dateTime.split(', ') \n",
        "    message = ' '.join(splitLine[1:])\n",
        "    if startsWithAuthor(message): \n",
        "        splitMessage = message.split(': ') \n",
        "        author = splitMessage[0] \n",
        "        message = ' '.join(splitMessage[1:])\n",
        "    else:\n",
        "        author = None\n",
        "    return date, time, author, message\n"
      ],
      "execution_count": 0,
      "outputs": []
    },
    {
      "cell_type": "code",
      "metadata": {
        "id": "JKvtxsb-wHbM",
        "colab_type": "code",
        "outputId": "0c411fab-e69f-4e7b-a0fe-bb96dcd3bb07",
        "colab": {
          "base_uri": "https://localhost:8080/",
          "height": 34
        }
      },
      "source": [
        "getDataPoint('4/1/19, 7:43 PM - Mani 💎: Roll back')"
      ],
      "execution_count": 0,
      "outputs": [
        {
          "output_type": "execute_result",
          "data": {
            "text/plain": [
              "('4/1/19', '7:43 PM', 'Mani 💎', 'Roll back')"
            ]
          },
          "metadata": {
            "tags": []
          },
          "execution_count": 13
        }
      ]
    },
    {
      "cell_type": "markdown",
      "metadata": {
        "id": "kTUymKg9Xtyg",
        "colab_type": "text"
      },
      "source": [
        "**Step 4: Parsing the entire file**\n",
        "\n",
        " Here we will read the entire whatsapp text file, identify and extract tokens from each line and capture all data in tabular format."
      ]
    },
    {
      "cell_type": "code",
      "metadata": {
        "id": "kxP1HFQ9HQ02",
        "colab_type": "code",
        "colab": {}
      },
      "source": [
        "parsedData = [] # List to keep track of data so it can be used by a Pandas dataframe\n",
        "conversationPath = '/content/drive/My Drive/Colab Notebooks/WhatsApp Chat with Blabla.txt' \n",
        "with open(conversationPath, encoding=\"utf-8\") as fp:\n",
        "    fp.readline() # Skipping first line of the file because contains information related to something about end-to-end encryption\n",
        "    messageBuffer = [] \n",
        "    date, time, author = None, None, None\n",
        "    while True:\n",
        "        line = fp.readline() \n",
        "        if not line: \n",
        "            break\n",
        "        line = line.strip() \n",
        "        if startsWithDateAndTime(line): \n",
        "            if len(messageBuffer) > 0: \n",
        "                parsedData.append([date, time, author, ' '.join(messageBuffer)]) \n",
        "            messageBuffer.clear() \n",
        "            date, time, author, message = getDataPoint(line) \n",
        "            messageBuffer.append(message) \n",
        "        else:\n",
        "            messageBuffer.append(line)\n"
      ],
      "execution_count": 0,
      "outputs": []
    },
    {
      "cell_type": "markdown",
      "metadata": {
        "id": "VyWI-qgHY2dg",
        "colab_type": "text"
      },
      "source": [
        "# **Data Exploration**"
      ]
    },
    {
      "cell_type": "code",
      "metadata": {
        "id": "fqou5O19HVrx",
        "colab_type": "code",
        "outputId": "aef40aed-94a9-44a2-9715-1d1006cfb5b2",
        "colab": {
          "base_uri": "https://localhost:8080/",
          "height": 419
        }
      },
      "source": [
        "df = pd.DataFrame(parsedData, columns=['Date', 'Time', 'Author', 'Message']) # Initialising a pandas Dataframe.\n",
        "df"
      ],
      "execution_count": 0,
      "outputs": [
        {
          "output_type": "execute_result",
          "data": {
            "text/html": [
              "<div>\n",
              "<style scoped>\n",
              "    .dataframe tbody tr th:only-of-type {\n",
              "        vertical-align: middle;\n",
              "    }\n",
              "\n",
              "    .dataframe tbody tr th {\n",
              "        vertical-align: top;\n",
              "    }\n",
              "\n",
              "    .dataframe thead th {\n",
              "        text-align: right;\n",
              "    }\n",
              "</style>\n",
              "<table border=\"1\" class=\"dataframe\">\n",
              "  <thead>\n",
              "    <tr style=\"text-align: right;\">\n",
              "      <th></th>\n",
              "      <th>Date</th>\n",
              "      <th>Time</th>\n",
              "      <th>Author</th>\n",
              "      <th>Message</th>\n",
              "    </tr>\n",
              "  </thead>\n",
              "  <tbody>\n",
              "    <tr>\n",
              "      <th>0</th>\n",
              "      <td>3/7/19</td>\n",
              "      <td>6:45 PM</td>\n",
              "      <td>None</td>\n",
              "      <td>Aakarsh Yelisetty created group \"Blabla\"</td>\n",
              "    </tr>\n",
              "    <tr>\n",
              "      <th>1</th>\n",
              "      <td>4/1/19</td>\n",
              "      <td>7:33 PM</td>\n",
              "      <td>None</td>\n",
              "      <td>Aakarsh Yelisetty added you</td>\n",
              "    </tr>\n",
              "    <tr>\n",
              "      <th>2</th>\n",
              "      <td>4/1/19</td>\n",
              "      <td>7:40 PM</td>\n",
              "      <td>Mani 💎</td>\n",
              "      <td>Hello hackers 👨🏻‍💻👨🏻‍💻</td>\n",
              "    </tr>\n",
              "    <tr>\n",
              "      <th>3</th>\n",
              "      <td>4/1/19</td>\n",
              "      <td>7:43 PM</td>\n",
              "      <td>Mani 💎</td>\n",
              "      <td>Em ina pedthe, topper ga.. Hacker ga.. Racha l...</td>\n",
              "    </tr>\n",
              "    <tr>\n",
              "      <th>4</th>\n",
              "      <td>4/1/19</td>\n",
              "      <td>7:43 PM</td>\n",
              "      <td>Mani 💎</td>\n",
              "      <td>Roll back</td>\n",
              "    </tr>\n",
              "    <tr>\n",
              "      <th>...</th>\n",
              "      <td>...</td>\n",
              "      <td>...</td>\n",
              "      <td>...</td>\n",
              "      <td>...</td>\n",
              "    </tr>\n",
              "    <tr>\n",
              "      <th>16059</th>\n",
              "      <td>3/7/20</td>\n",
              "      <td>7:09 PM</td>\n",
              "      <td>Teja Kura</td>\n",
              "      <td>Apatki apud plan cheptar ra ayya</td>\n",
              "    </tr>\n",
              "    <tr>\n",
              "      <th>16060</th>\n",
              "      <td>3/7/20</td>\n",
              "      <td>7:09 PM</td>\n",
              "      <td>Mani 💎</td>\n",
              "      <td>&lt;Media omitted&gt;</td>\n",
              "    </tr>\n",
              "    <tr>\n",
              "      <th>16061</th>\n",
              "      <td>3/7/20</td>\n",
              "      <td>7:10 PM</td>\n",
              "      <td>Mani 💎</td>\n",
              "      <td>Endra ayya.. anni nen lenappude ithunnai</td>\n",
              "    </tr>\n",
              "    <tr>\n",
              "      <th>16062</th>\n",
              "      <td>3/7/20</td>\n",
              "      <td>7:10 PM</td>\n",
              "      <td>Teja Kura</td>\n",
              "      <td>Siddipet kelli ochiru ma cousins andaru</td>\n",
              "    </tr>\n",
              "    <tr>\n",
              "      <th>16063</th>\n",
              "      <td>3/7/20</td>\n",
              "      <td>7:15 PM</td>\n",
              "      <td>Teja Kura</td>\n",
              "      <td>Susheel intla parents unnar anta Manam andaram...</td>\n",
              "    </tr>\n",
              "  </tbody>\n",
              "</table>\n",
              "<p>16064 rows × 4 columns</p>\n",
              "</div>"
            ],
            "text/plain": [
              "         Date  ...                                            Message\n",
              "0      3/7/19  ...           Aakarsh Yelisetty created group \"Blabla\"\n",
              "1      4/1/19  ...                        Aakarsh Yelisetty added you\n",
              "2      4/1/19  ...                             Hello hackers 👨🏻‍💻👨🏻‍💻\n",
              "3      4/1/19  ...  Em ina pedthe, topper ga.. Hacker ga.. Racha l...\n",
              "4      4/1/19  ...                                          Roll back\n",
              "...       ...  ...                                                ...\n",
              "16059  3/7/20  ...                   Apatki apud plan cheptar ra ayya\n",
              "16060  3/7/20  ...                                    <Media omitted>\n",
              "16061  3/7/20  ...           Endra ayya.. anni nen lenappude ithunnai\n",
              "16062  3/7/20  ...            Siddipet kelli ochiru ma cousins andaru\n",
              "16063  3/7/20  ...  Susheel intla parents unnar anta Manam andaram...\n",
              "\n",
              "[16064 rows x 4 columns]"
            ]
          },
          "metadata": {
            "tags": []
          },
          "execution_count": 20
        }
      ]
    },
    {
      "cell_type": "code",
      "metadata": {
        "id": "jrsz4SCrKeHh",
        "colab_type": "code",
        "outputId": "fa8f5078-407c-4a4a-b454-7df3c4f4cbf1",
        "colab": {
          "base_uri": "https://localhost:8080/",
          "height": 173
        }
      },
      "source": [
        "df.describe()"
      ],
      "execution_count": 0,
      "outputs": [
        {
          "output_type": "execute_result",
          "data": {
            "text/html": [
              "<div>\n",
              "<style scoped>\n",
              "    .dataframe tbody tr th:only-of-type {\n",
              "        vertical-align: middle;\n",
              "    }\n",
              "\n",
              "    .dataframe tbody tr th {\n",
              "        vertical-align: top;\n",
              "    }\n",
              "\n",
              "    .dataframe thead th {\n",
              "        text-align: right;\n",
              "    }\n",
              "</style>\n",
              "<table border=\"1\" class=\"dataframe\">\n",
              "  <thead>\n",
              "    <tr style=\"text-align: right;\">\n",
              "      <th></th>\n",
              "      <th>Date</th>\n",
              "      <th>Time</th>\n",
              "      <th>Author</th>\n",
              "      <th>Message</th>\n",
              "    </tr>\n",
              "  </thead>\n",
              "  <tbody>\n",
              "    <tr>\n",
              "      <th>count</th>\n",
              "      <td>16064</td>\n",
              "      <td>16064</td>\n",
              "      <td>16047</td>\n",
              "      <td>16064</td>\n",
              "    </tr>\n",
              "    <tr>\n",
              "      <th>unique</th>\n",
              "      <td>269</td>\n",
              "      <td>1051</td>\n",
              "      <td>5</td>\n",
              "      <td>12846</td>\n",
              "    </tr>\n",
              "    <tr>\n",
              "      <th>top</th>\n",
              "      <td>7/26/19</td>\n",
              "      <td>6:47 PM</td>\n",
              "      <td>Vishal Gurrala</td>\n",
              "      <td>&lt;Media omitted&gt;</td>\n",
              "    </tr>\n",
              "    <tr>\n",
              "      <th>freq</th>\n",
              "      <td>738</td>\n",
              "      <td>61</td>\n",
              "      <td>4214</td>\n",
              "      <td>689</td>\n",
              "    </tr>\n",
              "  </tbody>\n",
              "</table>\n",
              "</div>"
            ],
            "text/plain": [
              "           Date     Time          Author          Message\n",
              "count     16064    16064           16047            16064\n",
              "unique      269     1051               5            12846\n",
              "top     7/26/19  6:47 PM  Vishal Gurrala  <Media omitted>\n",
              "freq        738       61            4214              689"
            ]
          },
          "metadata": {
            "tags": []
          },
          "execution_count": 317
        }
      ]
    },
    {
      "cell_type": "markdown",
      "metadata": {
        "id": "Wi5-SL1hYE6-",
        "colab_type": "text"
      },
      "source": [
        "**Printing participants of the group**"
      ]
    },
    {
      "cell_type": "code",
      "metadata": {
        "id": "VseYreQTMPeD",
        "colab_type": "code",
        "outputId": "44acc62c-cb51-48a2-f557-afba361e88b2",
        "colab": {
          "base_uri": "https://localhost:8080/",
          "height": 51
        }
      },
      "source": [
        "df.Author.unique() "
      ],
      "execution_count": 0,
      "outputs": [
        {
          "output_type": "execute_result",
          "data": {
            "text/plain": [
              "array([None, 'Mani 💎', 'Aakarsh Yelisetty', 'Vishal Gurrala',\n",
              "       'Gowtham Bujjam', 'Teja Kura'], dtype=object)"
            ]
          },
          "metadata": {
            "tags": []
          },
          "execution_count": 22
        }
      ]
    },
    {
      "cell_type": "markdown",
      "metadata": {
        "id": "MRZ8oNt7YTI_",
        "colab_type": "text"
      },
      "source": [
        "**None** which is the first element in array indicates few messages which do not have authors like,\n",
        "\n",
        "\n",
        "*   Group was created.\n",
        "*   Teja was added and so on.\n",
        "\n"
      ]
    },
    {
      "cell_type": "markdown",
      "metadata": {
        "id": "7DWyom0hY4wW",
        "colab_type": "text"
      },
      "source": [
        "**The most garrulous person award goes to -**"
      ]
    },
    {
      "cell_type": "code",
      "metadata": {
        "id": "3mw2_bVkKkJh",
        "colab_type": "code",
        "outputId": "fe7a212c-961a-4dea-d214-3a72e26a35b8",
        "colab": {
          "base_uri": "https://localhost:8080/",
          "height": 119
        }
      },
      "source": [
        "author_value_counts = df['Author'].value_counts() # Number of messages per author\n",
        "print(df['Author'].value_counts())\n",
        "\n"
      ],
      "execution_count": 0,
      "outputs": [
        {
          "output_type": "stream",
          "text": [
            "Vishal Gurrala       4214\n",
            "Teja Kura            4094\n",
            "Mani 💎               3206\n",
            "Aakarsh Yelisetty    2369\n",
            "Gowtham Bujjam       2164\n",
            "Name: Author, dtype: int64\n"
          ],
          "name": "stdout"
        }
      ]
    },
    {
      "cell_type": "markdown",
      "metadata": {
        "id": "SBufMljuZ1Ym",
        "colab_type": "text"
      },
      "source": [
        "**Visualisation of the above stats**"
      ]
    },
    {
      "cell_type": "code",
      "metadata": {
        "id": "0aVYqKexZqPc",
        "colab_type": "code",
        "outputId": "0cdb0469-619b-4137-fdde-ab81ad0408fa",
        "colab": {
          "base_uri": "https://localhost:8080/",
          "height": 333
        }
      },
      "source": [
        "author_value_counts = df['Author'].value_counts() # Number of messages per author\n",
        "author_value_counts.plot.barh() # Plot a bar chart using pandas built-in plotting apis"
      ],
      "execution_count": 33,
      "outputs": [
        {
          "output_type": "execute_result",
          "data": {
            "text/plain": [
              "<matplotlib.axes._subplots.AxesSubplot at 0x7f9f1c9352b0>"
            ]
          },
          "metadata": {
            "tags": []
          },
          "execution_count": 33
        },
        {
          "output_type": "stream",
          "text": [
            "/usr/local/lib/python3.6/dist-packages/matplotlib/backends/backend_agg.py:211: RuntimeWarning: Glyph 128142 missing from current font.\n",
            "  font.set_text(s, 0.0, flags=flags)\n",
            "/usr/local/lib/python3.6/dist-packages/matplotlib/backends/backend_agg.py:180: RuntimeWarning: Glyph 128142 missing from current font.\n",
            "  font.set_text(s, 0, flags=flags)\n"
          ],
          "name": "stderr"
        },
        {
          "output_type": "display_data",
          "data": {
            "image/png": "[encoded data removed]",
            "text/plain": [
              "<Figure size 432x288 with 1 Axes>"
            ]
          },
          "metadata": {
            "tags": []
          }
        }
      ]
    },
    {
      "cell_type": "markdown",
      "metadata": {
        "id": "d_aIZsQlhZhw",
        "colab_type": "text"
      },
      "source": [
        "**Lets have a look at all the 'None' author's messages -**"
      ]
    },
    {
      "cell_type": "code",
      "metadata": {
        "id": "_h0R0SsZKtqE",
        "colab_type": "code",
        "outputId": "df107f18-856d-4c58-ba3d-1dfe4c5a27c9",
        "colab": {
          "base_uri": "https://localhost:8080/",
          "height": 204
        }
      },
      "source": [
        "null_authors_df = df[df['Author'].isnull()]\n",
        "null_authors_df.head()"
      ],
      "execution_count": 30,
      "outputs": [
        {
          "output_type": "execute_result",
          "data": {
            "text/html": [
              "<div>\n",
              "<style scoped>\n",
              "    .dataframe tbody tr th:only-of-type {\n",
              "        vertical-align: middle;\n",
              "    }\n",
              "\n",
              "    .dataframe tbody tr th {\n",
              "        vertical-align: top;\n",
              "    }\n",
              "\n",
              "    .dataframe thead th {\n",
              "        text-align: right;\n",
              "    }\n",
              "</style>\n",
              "<table border=\"1\" class=\"dataframe\">\n",
              "  <thead>\n",
              "    <tr style=\"text-align: right;\">\n",
              "      <th></th>\n",
              "      <th>Date</th>\n",
              "      <th>Time</th>\n",
              "      <th>Author</th>\n",
              "      <th>Message</th>\n",
              "    </tr>\n",
              "  </thead>\n",
              "  <tbody>\n",
              "    <tr>\n",
              "      <th>0</th>\n",
              "      <td>3/7/19</td>\n",
              "      <td>6:45 PM</td>\n",
              "      <td>None</td>\n",
              "      <td>Aakarsh Yelisetty created group \"Blabla\"</td>\n",
              "    </tr>\n",
              "    <tr>\n",
              "      <th>1</th>\n",
              "      <td>4/1/19</td>\n",
              "      <td>7:33 PM</td>\n",
              "      <td>None</td>\n",
              "      <td>Aakarsh Yelisetty added you</td>\n",
              "    </tr>\n",
              "    <tr>\n",
              "      <th>299</th>\n",
              "      <td>4/11/19</td>\n",
              "      <td>11:10 AM</td>\n",
              "      <td>None</td>\n",
              "      <td>You changed this group's icon</td>\n",
              "    </tr>\n",
              "    <tr>\n",
              "      <th>1486</th>\n",
              "      <td>5/3/19</td>\n",
              "      <td>10:24 AM</td>\n",
              "      <td>None</td>\n",
              "      <td>Aakarsh Yelisetty changed this group's icon</td>\n",
              "    </tr>\n",
              "    <tr>\n",
              "      <th>2582</th>\n",
              "      <td>5/19/19</td>\n",
              "      <td>7:18 PM</td>\n",
              "      <td>None</td>\n",
              "      <td>Vishal Gurrala changed the group description</td>\n",
              "    </tr>\n",
              "  </tbody>\n",
              "</table>\n",
              "</div>"
            ],
            "text/plain": [
              "         Date      Time Author                                       Message\n",
              "0      3/7/19   6:45 PM   None      Aakarsh Yelisetty created group \"Blabla\"\n",
              "1      4/1/19   7:33 PM   None                   Aakarsh Yelisetty added you\n",
              "299   4/11/19  11:10 AM   None                 You changed this group's icon\n",
              "1486   5/3/19  10:24 AM   None   Aakarsh Yelisetty changed this group's icon\n",
              "2582  5/19/19   7:18 PM   None  Vishal Gurrala changed the group description"
            ]
          },
          "metadata": {
            "tags": []
          },
          "execution_count": 30
        }
      ]
    },
    {
      "cell_type": "markdown",
      "metadata": {
        "id": "3hhcpyhuhiV9",
        "colab_type": "text"
      },
      "source": [
        "**What about the Media Messages?**"
      ]
    },
    {
      "cell_type": "code",
      "metadata": {
        "id": "jhTbyv3dK-y9",
        "colab_type": "code",
        "outputId": "07660a19-ff30-4702-a625-8fcd831b7066",
        "colab": {
          "base_uri": "https://localhost:8080/",
          "height": 221
        }
      },
      "source": [
        "media_messages_df = df[df['Message'] == '<Media omitted>']\n",
        "print(media_messages_df.head())\n",
        "\n",
        "author_media_messages_value_counts = media_messages_df['Author'].value_counts()\n",
        "print(author_media_messages_value_counts)\n",
        "##top_10_author_media_messages_value_counts = author_media_messages_value_counts.head(10)\n",
        "##top_10_author_media_messages_value_counts.plot.barh()"
      ],
      "execution_count": 29,
      "outputs": [
        {
          "output_type": "stream",
          "text": [
            "        Date      Time             Author          Message\n",
            "14    4/1/19   8:26 PM     Vishal Gurrala  <Media omitted>\n",
            "28    4/1/19   8:31 PM             Mani 💎  <Media omitted>\n",
            "29    4/1/19   8:33 PM  Aakarsh Yelisetty  <Media omitted>\n",
            "30    4/1/19   8:28 PM             Mani 💎  <Media omitted>\n",
            "284  4/11/19  11:00 AM  Aakarsh Yelisetty  <Media omitted>\n",
            "Teja Kura            245\n",
            "Mani 💎               191\n",
            "Aakarsh Yelisetty    166\n",
            "Vishal Gurrala        53\n",
            "Gowtham Bujjam        34\n",
            "Name: Author, dtype: int64\n"
          ],
          "name": "stdout"
        }
      ]
    },
    {
      "cell_type": "markdown",
      "metadata": {
        "id": "LfQPLMrGiT7o",
        "colab_type": "text"
      },
      "source": [
        "**Visualisation of the above stats**"
      ]
    },
    {
      "cell_type": "code",
      "metadata": {
        "id": "ZIgVAbHQ4XrJ",
        "colab_type": "code",
        "colab": {
          "base_uri": "https://localhost:8080/",
          "height": 333
        },
        "outputId": "a40bcc04-4b89-422d-b0ab-e04ca683043e"
      },
      "source": [
        "media_value_counts = media_messages_df['Author'].value_counts() # Number of messages per author\n",
        "media_value_counts.plot.barh() # Plot a bar chart using pandas built-in plotting apis"
      ],
      "execution_count": 36,
      "outputs": [
        {
          "output_type": "execute_result",
          "data": {
            "text/plain": [
              "<matplotlib.axes._subplots.AxesSubplot at 0x7f9f1d54df60>"
            ]
          },
          "metadata": {
            "tags": []
          },
          "execution_count": 36
        },
        {
          "output_type": "stream",
          "text": [
            "/usr/local/lib/python3.6/dist-packages/matplotlib/backends/backend_agg.py:211: RuntimeWarning: Glyph 128142 missing from current font.\n",
            "  font.set_text(s, 0.0, flags=flags)\n",
            "/usr/local/lib/python3.6/dist-packages/matplotlib/backends/backend_agg.py:180: RuntimeWarning: Glyph 128142 missing from current font.\n",
            "  font.set_text(s, 0, flags=flags)\n"
          ],
          "name": "stderr"
        },
        {
          "output_type": "display_data",
          "data": {
            "image/png": "[encoded data removed]",
            "text/plain": [
              "<Figure size 432x288 with 1 Axes>"
            ]
          },
          "metadata": {
            "tags": []
          }
        }
      ]
    },
    {
      "cell_type": "markdown",
      "metadata": {
        "id": "FzIOGzs8ihsM",
        "colab_type": "text"
      },
      "source": [
        "**We don’t need media nor 'None' author's messages.**\n",
        "\n",
        "Since we are just restricting ourselves just to the analysis of text-only messages sent by our friends in the group, let us create a new data frame (messages_df) by dropping all those messages that are either media messages or do not have an author,"
      ]
    },
    {
      "cell_type": "code",
      "metadata": {
        "id": "izSe5Pt6ic4a",
        "colab_type": "code",
        "colab": {
          "base_uri": "https://localhost:8080/",
          "height": 204
        },
        "outputId": "4e7f1362-0c59-4e6d-f51d-ec1258fc8bf8"
      },
      "source": [
        "messages_df = df.drop(null_authors_df.index) # Drops all rows of the data frame containing messages from null authors\n",
        "messages_df = messages_df.drop(media_messages_df.index) # Drops all rows of the data frame containing media messages\n",
        "messages_df.head()"
      ],
      "execution_count": 39,
      "outputs": [
        {
          "output_type": "execute_result",
          "data": {
            "text/html": [
              "<div>\n",
              "<style scoped>\n",
              "    .dataframe tbody tr th:only-of-type {\n",
              "        vertical-align: middle;\n",
              "    }\n",
              "\n",
              "    .dataframe tbody tr th {\n",
              "        vertical-align: top;\n",
              "    }\n",
              "\n",
              "    .dataframe thead th {\n",
              "        text-align: right;\n",
              "    }\n",
              "</style>\n",
              "<table border=\"1\" class=\"dataframe\">\n",
              "  <thead>\n",
              "    <tr style=\"text-align: right;\">\n",
              "      <th></th>\n",
              "      <th>Date</th>\n",
              "      <th>Time</th>\n",
              "      <th>Author</th>\n",
              "      <th>Message</th>\n",
              "    </tr>\n",
              "  </thead>\n",
              "  <tbody>\n",
              "    <tr>\n",
              "      <th>2</th>\n",
              "      <td>4/1/19</td>\n",
              "      <td>7:40 PM</td>\n",
              "      <td>Mani 💎</td>\n",
              "      <td>Hello hackers 👨🏻‍💻👨🏻‍💻</td>\n",
              "    </tr>\n",
              "    <tr>\n",
              "      <th>3</th>\n",
              "      <td>4/1/19</td>\n",
              "      <td>7:43 PM</td>\n",
              "      <td>Mani 💎</td>\n",
              "      <td>Em ina pedthe, topper ga.. Hacker ga.. Racha l...</td>\n",
              "    </tr>\n",
              "    <tr>\n",
              "      <th>4</th>\n",
              "      <td>4/1/19</td>\n",
              "      <td>7:43 PM</td>\n",
              "      <td>Mani 💎</td>\n",
              "      <td>Roll back</td>\n",
              "    </tr>\n",
              "    <tr>\n",
              "      <th>5</th>\n",
              "      <td>4/1/19</td>\n",
              "      <td>7:43 PM</td>\n",
              "      <td>Mani 💎</td>\n",
              "      <td>Ventane anni delete chesi dengude</td>\n",
              "    </tr>\n",
              "    <tr>\n",
              "      <th>6</th>\n",
              "      <td>4/1/19</td>\n",
              "      <td>7:43 PM</td>\n",
              "      <td>Aakarsh Yelisetty</td>\n",
              "      <td>😂</td>\n",
              "    </tr>\n",
              "  </tbody>\n",
              "</table>\n",
              "</div>"
            ],
            "text/plain": [
              "     Date  ...                                            Message\n",
              "2  4/1/19  ...                             Hello hackers 👨🏻‍💻👨🏻‍💻\n",
              "3  4/1/19  ...  Em ina pedthe, topper ga.. Hacker ga.. Racha l...\n",
              "4  4/1/19  ...                                          Roll back\n",
              "5  4/1/19  ...                  Ventane anni delete chesi dengude\n",
              "6  4/1/19  ...                                                  😂\n",
              "\n",
              "[5 rows x 4 columns]"
            ]
          },
          "metadata": {
            "tags": []
          },
          "execution_count": 39
        }
      ]
    },
    {
      "cell_type": "markdown",
      "metadata": {
        "id": "1C62hQdTi3D0",
        "colab_type": "text"
      },
      "source": [
        "This step could be categorized as **data cleaning.**"
      ]
    },
    {
      "cell_type": "markdown",
      "metadata": {
        "id": "7UjUqf5bjEAd",
        "colab_type": "text"
      },
      "source": [
        "It might be interesting to count the number of letters and words used by each author in each message. So, let us add 2 new columns to the data frame called “Letter_Count” and “Word_Count”, using the following code:"
      ]
    },
    {
      "cell_type": "code",
      "metadata": {
        "id": "rmzXTt4Iiz_p",
        "colab_type": "code",
        "colab": {}
      },
      "source": [
        "messages_df['Letter_Count'] = messages_df['Message'].apply(lambda s : len(s))\n",
        "messages_df['Word_Count'] = messages_df['Message'].apply(lambda s : len(s.split(' ')))"
      ],
      "execution_count": 0,
      "outputs": []
    },
    {
      "cell_type": "markdown",
      "metadata": {
        "id": "cX_SRsrjjOSb",
        "colab_type": "text"
      },
      "source": [
        "**How many words have been used by authors since beginning**"
      ]
    },
    {
      "cell_type": "code",
      "metadata": {
        "id": "1n_0TCWTLRYs",
        "colab_type": "code",
        "outputId": "a100e195-0746-49ac-ee1b-d9b703fe02db",
        "colab": {
          "base_uri": "https://localhost:8080/",
          "height": 347
        }
      },
      "source": [
        "import matplotlib.pyplot as plt\n",
        "total_word_count_grouped_by_author = messages_df[['Author', 'Word_Count']].groupby('Author').sum()\n",
        "sorted_total_word_count_grouped_by_author = total_word_count_grouped_by_author.sort_values('Word_Count', ascending=False)\n",
        "top_10_sorted_total_word_count_grouped_by_author = sorted_total_word_count_grouped_by_author.head(10)\n",
        "top_10_sorted_total_word_count_grouped_by_author.plot.barh()\n",
        "plt.xlabel('Number of Words')\n",
        "plt.ylabel('Authors')"
      ],
      "execution_count": 41,
      "outputs": [
        {
          "output_type": "execute_result",
          "data": {
            "text/plain": [
              "Text(0, 0.5, 'Authors')"
            ]
          },
          "metadata": {
            "tags": []
          },
          "execution_count": 41
        },
        {
          "output_type": "stream",
          "text": [
            "/usr/local/lib/python3.6/dist-packages/matplotlib/backends/backend_agg.py:211: RuntimeWarning: Glyph 128142 missing from current font.\n",
            "  font.set_text(s, 0.0, flags=flags)\n",
            "/usr/local/lib/python3.6/dist-packages/matplotlib/backends/backend_agg.py:180: RuntimeWarning: Glyph 128142 missing from current font.\n",
            "  font.set_text(s, 0, flags=flags)\n"
          ],
          "name": "stderr"
        },
        {
          "output_type": "display_data",
          "data": {
            "image/png": "[encoded data removed]",
            "text/plain": [
              "<Figure size 432x288 with 1 Axes>"
            ]
          },
          "metadata": {
            "tags": []
          }
        }
      ]
    },
    {
      "cell_type": "markdown",
      "metadata": {
        "id": "pXa8ygp9jtqR",
        "colab_type": "text"
      },
      "source": [
        "**What is the most common number of words in a message?**"
      ]
    },
    {
      "cell_type": "code",
      "metadata": {
        "id": "tzVgFT4NLXuB",
        "colab_type": "code",
        "outputId": "41940d1b-a492-4e65-b811-369fff56bb67",
        "colab": {
          "base_uri": "https://localhost:8080/",
          "height": 197
        }
      },
      "source": [
        "plt.figure(figsize=(15, 2)) # To ensure that the bar plot fits in the output cell of a Jupyter notebook\n",
        "word_count_value_counts = messages_df['Word_Count'].value_counts()\n",
        "top_40_word_count_value_counts = word_count_value_counts.head(40)\n",
        "top_40_word_count_value_counts.plot.bar()\n",
        "plt.xlabel('Word Count')\n",
        "plt.ylabel('Frequency')"
      ],
      "execution_count": 0,
      "outputs": [
        {
          "output_type": "execute_result",
          "data": {
            "text/plain": [
              "Text(0, 0.5, 'Frequency')"
            ]
          },
          "metadata": {
            "tags": []
          },
          "execution_count": 236
        },
        {
          "output_type": "display_data",
          "data": {
            "image/png": "[encoded data removed]",
            "text/plain": [
              "<Figure size 1080x144 with 1 Axes>"
            ]
          },
          "metadata": {
            "tags": []
          }
        }
      ]
    },
    {
      "cell_type": "markdown",
      "metadata": {
        "id": "nJYZG3tlj50C",
        "colab_type": "text"
      },
      "source": [
        "**The most happening day was -**"
      ]
    },
    {
      "cell_type": "code",
      "metadata": {
        "id": "lI7Yd1sfLgcR",
        "colab_type": "code",
        "outputId": "3fac2ff1-0cc9-465f-a6ef-b4cf0214681f",
        "colab": {
          "base_uri": "https://localhost:8080/",
          "height": 500
        }
      },
      "source": [
        "messages_df['Date'].value_counts().head(10).plot.barh()\n",
        "print(messages_df['Date'].value_counts())\n",
        "plt.xlabel('Number of Messages')\n",
        "plt.ylabel('Date')"
      ],
      "execution_count": 42,
      "outputs": [
        {
          "output_type": "stream",
          "text": [
            "7/26/19    720\n",
            "8/18/19    433\n",
            "8/12/19    409\n",
            "7/28/19    344\n",
            "5/7/19     339\n",
            "          ... \n",
            "9/30/19      1\n",
            "3/1/20       1\n",
            "4/28/19      1\n",
            "4/15/19      1\n",
            "9/9/19       1\n",
            "Name: Date, Length: 264, dtype: int64\n"
          ],
          "name": "stdout"
        },
        {
          "output_type": "execute_result",
          "data": {
            "text/plain": [
              "Text(0, 0.5, 'Date')"
            ]
          },
          "metadata": {
            "tags": []
          },
          "execution_count": 42
        },
        {
          "output_type": "display_data",
          "data": {
            "image/png": "[encoded data removed]",
            "text/plain": [
              "<Figure size 432x288 with 1 Axes>"
            ]
          },
          "metadata": {
            "tags": []
          }
        }
      ]
    },
    {
      "cell_type": "markdown",
      "metadata": {
        "id": "W6CG6SK0k5ha",
        "colab_type": "text"
      },
      "source": [
        "**When are the group members most active?**"
      ]
    },
    {
      "cell_type": "code",
      "metadata": {
        "id": "4jt0XUtfLx9q",
        "colab_type": "code",
        "outputId": "86ebae71-ecd5-45f5-d015-173a016d3bfc",
        "colab": {
          "base_uri": "https://localhost:8080/",
          "height": 296
        }
      },
      "source": [
        "messages_df['Time'].value_counts().head(10).plot.barh() # Top 10 Times of the day at which the most number of messages were sent\n",
        "plt.xlabel('Number of messages')\n",
        "plt.ylabel('Time')"
      ],
      "execution_count": 0,
      "outputs": [
        {
          "output_type": "execute_result",
          "data": {
            "text/plain": [
              "Text(0, 0.5, 'Time')"
            ]
          },
          "metadata": {
            "tags": []
          },
          "execution_count": 239
        },
        {
          "output_type": "display_data",
          "data": {
            "image/png": "[encoded data removed]",
            "text/plain": [
              "<Figure size 432x288 with 1 Axes>"
            ]
          },
          "metadata": {
            "tags": []
          }
        }
      ]
    },
    {
      "cell_type": "markdown",
      "metadata": {
        "id": "CGi3W7uOlcwV",
        "colab_type": "text"
      },
      "source": [
        "The chance of you gettinga reply at 8:21 PM seem to be damn high!"
      ]
    },
    {
      "cell_type": "markdown",
      "metadata": {
        "id": "M1v9BTkclr5m",
        "colab_type": "text"
      },
      "source": [
        "**Hour of the day!**"
      ]
    },
    {
      "cell_type": "code",
      "metadata": {
        "id": "xIKnzrXFzBr_",
        "colab_type": "code",
        "outputId": "c94348e0-8e00-4175-99ef-82fa167b81a0",
        "colab": {
          "base_uri": "https://localhost:8080/",
          "height": 296
        }
      },
      "source": [
        "messages_df['Hour'] = messages_df['Time'].apply(lambda x : x.split(':')[0]) # The first token of a value in the Time Column contains the hour (Eg., \"20\" in \"20:15\")\n",
        "messages_df['Hour'].value_counts().head(10).plot.barh() # Top 10 Hours of the day during which the most number of messages were sent\n",
        "plt.xlabel('Number of messages')\n",
        "plt.ylabel('Hour of Day')"
      ],
      "execution_count": 43,
      "outputs": [
        {
          "output_type": "execute_result",
          "data": {
            "text/plain": [
              "Text(0, 0.5, 'Hour of Day')"
            ]
          },
          "metadata": {
            "tags": []
          },
          "execution_count": 43
        },
        {
          "output_type": "display_data",
          "data": {
            "image/png": "[encoded data removed]",
            "text/plain": [
              "<Figure size 432x288 with 1 Axes>"
            ]
          },
          "metadata": {
            "tags": []
          }
        }
      ]
    },
    {
      "cell_type": "markdown",
      "metadata": {
        "id": "KjkT-mtNl1oD",
        "colab_type": "text"
      },
      "source": [
        "**The most used word is -**"
      ]
    },
    {
      "cell_type": "code",
      "metadata": {
        "id": "ssgeGguFyS6-",
        "colab_type": "code",
        "outputId": "891300ef-ae4e-4fbd-f8b9-02d3b6c0018f",
        "colab": {
          "base_uri": "https://localhost:8080/",
          "height": 442
        }
      },
      "source": [
        "from collections import Counter\n",
        "Counter(\" \".join(messages_df[\"Message\"]).split()).most_common(25)"
      ],
      "execution_count": 44,
      "outputs": [
        {
          "output_type": "execute_result",
          "data": {
            "text/plain": [
              "[('ra', 1469),\n",
              " ('ga', 650),\n",
              " ('kuda', 520),\n",
              " ('ani', 429),\n",
              " ('ki', 415),\n",
              " ('anta', 403),\n",
              " ('la', 367),\n",
              " ('em', 318),\n",
              " ('Nen', 318),\n",
              " ('eh', 286),\n",
              " ('😂', 277),\n",
              " ('kada', 276),\n",
              " ('le', 263),\n",
              " ('lo', 246),\n",
              " ('undi', 210),\n",
              " ('ante', 199),\n",
              " ('Arey', 193),\n",
              " ('Em', 191),\n",
              " ('endi', 187),\n",
              " ('Teja', 166),\n",
              " ('ah', 165),\n",
              " ('ne', 163),\n",
              " ('and', 151),\n",
              " ('gadu', 146),\n",
              " ('Vishal', 146)]"
            ]
          },
          "metadata": {
            "tags": []
          },
          "execution_count": 44
        }
      ]
    },
    {
      "cell_type": "markdown",
      "metadata": {
        "id": "R8GTOkIrl7Hz",
        "colab_type": "text"
      },
      "source": [
        "**The emoji guy award goes to -**"
      ]
    },
    {
      "cell_type": "code",
      "metadata": {
        "id": "0rLvlQA80Yp2",
        "colab_type": "code",
        "outputId": "48ac42ea-809a-48dd-a90a-077242a2f14f",
        "colab": {
          "base_uri": "https://localhost:8080/",
          "height": 571
        }
      },
      "source": [
        "emoji_messages_df = df[df['Message'].str.contains(r\"[\\u263a-\\U0001f645]+\", na=False)]\n",
        "print(emoji_messages_df)\n",
        "author_emoji_messages_value_counts = emoji_messages_df['Author'].value_counts()\n",
        "author_emoji_messages_value_counts.plot.barh()"
      ],
      "execution_count": 47,
      "outputs": [
        {
          "output_type": "stream",
          "text": [
            "         Date  ...                                            Message\n",
            "2      4/1/19  ...                             Hello hackers 👨🏻‍💻👨🏻‍💻\n",
            "6      4/1/19  ...                                                  😂\n",
            "12     4/1/19  ...  telvakunte edi sudandi.. nak ithe eppude telsi...\n",
            "24     4/1/19  ...                 Good manikanta👏🏻keep ur good work😁\n",
            "26     4/1/19  ...                               Kick this guy I say😂\n",
            "...       ...  ...                                                ...\n",
            "15965  3/6/20  ...                                                😂😂😂\n",
            "15971  3/6/20  ...                                                  😱\n",
            "15987  3/7/20  ...                                840 nundi unna ra☹️\n",
            "15988  3/7/20  ...                                                 😂😂\n",
            "16063  3/7/20  ...  Susheel intla parents unnar anta Manam andaram...\n",
            "\n",
            "[1323 rows x 4 columns]\n"
          ],
          "name": "stdout"
        },
        {
          "output_type": "execute_result",
          "data": {
            "text/plain": [
              "<matplotlib.axes._subplots.AxesSubplot at 0x7f9f1c537f98>"
            ]
          },
          "metadata": {
            "tags": []
          },
          "execution_count": 47
        },
        {
          "output_type": "stream",
          "text": [
            "/usr/local/lib/python3.6/dist-packages/matplotlib/backends/backend_agg.py:211: RuntimeWarning: Glyph 128142 missing from current font.\n",
            "  font.set_text(s, 0.0, flags=flags)\n",
            "/usr/local/lib/python3.6/dist-packages/matplotlib/backends/backend_agg.py:180: RuntimeWarning: Glyph 128142 missing from current font.\n",
            "  font.set_text(s, 0, flags=flags)\n"
          ],
          "name": "stderr"
        },
        {
          "output_type": "display_data",
          "data": {
            "image/png": "[encoded data removed]",
            "text/plain": [
              "<Figure size 432x288 with 1 Axes>"
            ]
          },
          "metadata": {
            "tags": []
          }
        }
      ]
    },
    {
      "cell_type": "markdown",
      "metadata": {
        "id": "cRiwfjlDmUZe",
        "colab_type": "text"
      },
      "source": [
        "# **Stay tuned! To be continued.**"
      ]
    }
  ]
}